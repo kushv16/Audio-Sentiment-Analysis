{
  "cells": [
    {
      "cell_type": "markdown",
      "metadata": {
        "id": "view-in-github",
        "colab_type": "text"
      },
      "source": [
        "<a href=\"https://colab.research.google.com/github/kushv16/Audio-Sentiment-Analysis/blob/master/Models_Trained_on_Combo_of_JL_and_EMO.ipynb\" target=\"_parent\"><img src=\"https://colab.research.google.com/assets/colab-badge.svg\" alt=\"Open In Colab\"/></a>"
      ]
    },
    {
      "cell_type": "code",
      "source": [
        "from google.colab import drive\n",
        "drive.mount('/content/drive/')"
      ],
      "metadata": {
        "colab": {
          "base_uri": "https://localhost:8080/"
        },
        "id": "aUbmDnw_lFJe",
        "outputId": "d837d39e-1aac-4b0d-c2cf-609ccc0030d9"
      },
      "id": "aUbmDnw_lFJe",
      "execution_count": 1,
      "outputs": [
        {
          "output_type": "stream",
          "name": "stdout",
          "text": [
            "Mounted at /content/drive/\n"
          ]
        }
      ]
    },
    {
      "cell_type": "code",
      "execution_count": 8,
      "id": "1c5adff8-859c-45ef-b131-4f4cc415a7ba",
      "metadata": {
        "id": "1c5adff8-859c-45ef-b131-4f4cc415a7ba"
      },
      "outputs": [],
      "source": [
        "# import libraries\n",
        "import pandas as pd\n",
        "import numpy as np\n",
        "import seaborn as sns\n",
        "import matplotlib.pyplot as plt\n",
        "%matplotlib inline\n",
        "%config InlineBackend.figure_format='retina'\n",
        "import warnings\n",
        "warnings.filterwarnings(\"ignore\")\n",
        "\n",
        "# Import the dataset with the features\n",
        "df = pd.read_csv('/content/drive/MyDrive/LY Project/combo.csv')"
      ]
    },
    {
      "cell_type": "code",
      "source": [
        "df['dataset'].unique()"
      ],
      "metadata": {
        "colab": {
          "base_uri": "https://localhost:8080/"
        },
        "id": "wVbv82I_luMc",
        "outputId": "b22a6a10-b852-4315-f602-8f52a4941aae"
      },
      "id": "wVbv82I_luMc",
      "execution_count": 7,
      "outputs": [
        {
          "output_type": "execute_result",
          "data": {
            "text/plain": [
              "array(['RAVDESS', 'CREMA-D', 'SAVEE', 'TESS', 'JL-Corpus', 'EmoV_DB'],\n",
              "      dtype=object)"
            ]
          },
          "metadata": {},
          "execution_count": 7
        }
      ]
    },
    {
      "cell_type": "code",
      "source": [
        "include_datasets = ['EmoV_DB', 'JL-Corpus']\n",
        "\n",
        "# Convert target to numerical values\n",
        "df['emotion'].replace({'angry':0,'disgust':1,'fear':2,'happy':3,'neutral':4,'sad':5,'surprise':6}, inplace=True)\n",
        "df['gender'].replace({'female':0,'male':1}, inplace=True)\n",
        "df.dropna(inplace = True)\n",
        "df = df[df['dataset'].isin(include_datasets)]\n",
        "# Create feature matrix (X) and numerical target (y)\n",
        "X = df.drop(columns=['path','filename','dataset','duration','age','emotion','sample_rate'])\n",
        "y = df.emotion.values"
      ],
      "metadata": {
        "id": "Zv5FLpSDltId"
      },
      "id": "Zv5FLpSDltId",
      "execution_count": 9,
      "outputs": []
    },
    {
      "cell_type": "code",
      "source": [
        "df['dataset'].unique()"
      ],
      "metadata": {
        "colab": {
          "base_uri": "https://localhost:8080/"
        },
        "id": "PKb8eyLim9Ij",
        "outputId": "2890c03a-ac78-4866-fb6e-34261234c739"
      },
      "id": "PKb8eyLim9Ij",
      "execution_count": 11,
      "outputs": [
        {
          "output_type": "execute_result",
          "data": {
            "text/plain": [
              "array(['JL-Corpus', 'EmoV_DB'], dtype=object)"
            ]
          },
          "metadata": {},
          "execution_count": 11
        }
      ]
    },
    {
      "cell_type": "code",
      "execution_count": 12,
      "id": "e5e8d54f-7ae3-4fea-bbc4-8e681ceae0c9",
      "metadata": {
        "colab": {
          "base_uri": "https://localhost:8080/"
        },
        "id": "e5e8d54f-7ae3-4fea-bbc4-8e681ceae0c9",
        "outputId": "312d0b4e-1116-4689-c716-fad433456a97"
      },
      "outputs": [
        {
          "output_type": "stream",
          "name": "stdout",
          "text": [
            "Shape of X_tr:  (4333, 90)\n",
            "Shape of y_tr:  (4333,)\n",
            "Shape of X_te:  (482, 90)\n",
            "Shape of y_te:  (482,)\n"
          ]
        }
      ],
      "source": [
        "from sklearn.model_selection import train_test_split\n",
        "\n",
        "# Create train and test set\n",
        "X_tr, X_te, y_tr, y_te = train_test_split(X, y, train_size=0.9, shuffle=True, stratify=y, random_state=0)\n",
        "\n",
        "# Checking size\n",
        "print('Shape of X_tr: ', X_tr.shape)\n",
        "print('Shape of y_tr: ', y_tr.shape)\n",
        "print('Shape of X_te: ', X_te.shape)\n",
        "print('Shape of y_te: ', y_te.shape)"
      ]
    },
    {
      "cell_type": "code",
      "execution_count": 13,
      "id": "e6f80afd-c036-42a7-8ceb-f3b4f49a5f3f",
      "metadata": {
        "id": "e6f80afd-c036-42a7-8ceb-f3b4f49a5f3f"
      },
      "outputs": [],
      "source": [
        "# Scale the data\n",
        "from sklearn.preprocessing import StandardScaler\n",
        "\n",
        "# Create Standard scaler\n",
        "scaler = StandardScaler()\n",
        "\n",
        "# Rescale data\n",
        "X_tr_rescaled = scaler.fit_transform(X_tr)\n",
        "X_te_rescaled = scaler.transform(X_te)"
      ]
    },
    {
      "cell_type": "code",
      "execution_count": 15,
      "id": "e202a889-d41e-4374-a921-03985da4e31e",
      "metadata": {
        "colab": {
          "base_uri": "https://localhost:8080/"
        },
        "id": "e202a889-d41e-4374-a921-03985da4e31e",
        "outputId": "95140336-3a9a-4d1e-8c4e-4455913e7b08"
      },
      "outputs": [
        {
          "output_type": "stream",
          "name": "stdout",
          "text": [
            "Test accuracy for the random forest model after the tuning: 0.954\n",
            "CPU times: user 20.3 s, sys: 4.12 ms, total: 20.3 s\n",
            "Wall time: 21.8 s\n"
          ]
        }
      ],
      "source": [
        "%%time\n",
        "\n",
        "# importing necessary libraries for this task\n",
        "from sklearn.ensemble import RandomForestClassifier\n",
        "\n",
        "rf = RandomForestClassifier(n_estimators=500, max_depth=100, class_weight='balanced', random_state=0)\n",
        "rf.fit(X_tr_rescaled,y_tr)\n",
        "\n",
        "print(\"Test accuracy for the random forest model after the tuning: {:.3f}\".format(rf.score(X_te_rescaled,y_te)))"
      ]
    },
    {
      "cell_type": "code",
      "source": [
        "from sklearn.svm import SVC\n",
        "\n",
        "best_svm = SVC(kernel='rbf', C=100, gamma=0.01, probability=True)\n",
        "\n",
        "best_svm.fit(X_tr_rescaled,y_tr)\n",
        "\n",
        "print('Test accuracy of the SVC classifier with RBF kernel: {:.3f}'.format(best_svm.score(X_te_rescaled, y_te)))"
      ],
      "metadata": {
        "colab": {
          "base_uri": "https://localhost:8080/"
        },
        "id": "YQgoG27Rob4d",
        "outputId": "f1bbb519-34e2-4e64-ff8b-e416635a366c"
      },
      "id": "YQgoG27Rob4d",
      "execution_count": 16,
      "outputs": [
        {
          "output_type": "stream",
          "name": "stdout",
          "text": [
            "Test accuracy of the SVC classifier with RBF kernel: 0.990\n"
          ]
        }
      ]
    },
    {
      "cell_type": "code",
      "source": [
        "from sklearn.tree import DecisionTreeClassifier\n",
        "\n",
        "best_decision_tree = DecisionTreeClassifier(max_leaf_nodes=99, min_samples_split=3)\n",
        "\n",
        "best_decision_tree.fit(X_tr_rescaled,y_tr)\n",
        "\n",
        "print('Test accuracy of the Decision Tree classifier: {:.3f}'.format(best_decision_tree.score(X_te_rescaled, y_te)))"
      ],
      "metadata": {
        "colab": {
          "base_uri": "https://localhost:8080/"
        },
        "id": "kfWJqQ-vstD3",
        "outputId": "3b955308-536c-4ca0-c731-d26a6386a893"
      },
      "id": "kfWJqQ-vstD3",
      "execution_count": 18,
      "outputs": [
        {
          "output_type": "stream",
          "name": "stdout",
          "text": [
            "Test accuracy of the Decision Tree classifier: 0.846\n"
          ]
        }
      ]
    },
    {
      "cell_type": "code",
      "source": [],
      "metadata": {
        "id": "T12QJQy5yPef"
      },
      "id": "T12QJQy5yPef",
      "execution_count": null,
      "outputs": []
    }
  ],
  "metadata": {
    "kernelspec": {
      "display_name": "Python [conda env:adsml] *",
      "language": "python",
      "name": "conda-env-adsml-py"
    },
    "language_info": {
      "codemirror_mode": {
        "name": "ipython",
        "version": 3
      },
      "file_extension": ".py",
      "mimetype": "text/x-python",
      "name": "python",
      "nbconvert_exporter": "python",
      "pygments_lexer": "ipython3",
      "version": "3.9.7"
    },
    "colab": {
      "provenance": [],
      "include_colab_link": true
    }
  },
  "nbformat": 4,
  "nbformat_minor": 5
}