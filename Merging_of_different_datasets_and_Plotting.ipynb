{
  "cells": [
    {
      "cell_type": "markdown",
      "metadata": {
        "id": "view-in-github",
        "colab_type": "text"
      },
      "source": [
        "<a href=\"https://colab.research.google.com/github/kushv16/Audio-Sentiment-Analysis/blob/master/Merging_of_different_datasets_and_Plotting.ipynb\" target=\"_parent\"><img src=\"https://colab.research.google.com/assets/colab-badge.svg\" alt=\"Open In Colab\"/></a>"
      ]
    },
    {
      "cell_type": "code",
      "source": [
        "from google.colab import drive\n",
        "drive.mount('/content/drive', force_remount=True)"
      ],
      "metadata": {
        "colab": {
          "base_uri": "https://localhost:8080/"
        },
        "id": "UPtIjjtxxmo8",
        "outputId": "92e8e364-d703-446d-ef69-14ccba1df537"
      },
      "id": "UPtIjjtxxmo8",
      "execution_count": null,
      "outputs": [
        {
          "output_type": "stream",
          "name": "stdout",
          "text": [
            "Mounted at /content/drive\n"
          ]
        }
      ]
    },
    {
      "cell_type": "code",
      "source": [
        "!pip install noisereduce\n",
        "\n",
        "import pandas as pd\n",
        "import numpy as np\n",
        "import random\n",
        "from glob import glob\n",
        "import os\n",
        "import librosa\n",
        "import noisereduce as nr\n",
        "\n",
        "import warnings\n",
        "warnings.filterwarnings(\"ignore\")"
      ],
      "metadata": {
        "colab": {
          "base_uri": "https://localhost:8080/"
        },
        "id": "3ALQbIDDxvwD",
        "outputId": "7dbe6574-e32c-4784-9b97-901a4192a1a5"
      },
      "id": "3ALQbIDDxvwD",
      "execution_count": null,
      "outputs": [
        {
          "output_type": "stream",
          "name": "stdout",
          "text": [
            "Looking in indexes: https://pypi.org/simple, https://us-python.pkg.dev/colab-wheels/public/simple/\n",
            "Requirement already satisfied: noisereduce in /usr/local/lib/python3.8/dist-packages (2.0.1)\n",
            "Requirement already satisfied: matplotlib in /usr/local/lib/python3.8/dist-packages (from noisereduce) (3.5.3)\n",
            "Requirement already satisfied: numpy in /usr/local/lib/python3.8/dist-packages (from noisereduce) (1.22.4)\n",
            "Requirement already satisfied: librosa in /usr/local/lib/python3.8/dist-packages (from noisereduce) (0.8.1)\n",
            "Requirement already satisfied: tqdm in /usr/local/lib/python3.8/dist-packages (from noisereduce) (4.64.1)\n",
            "Requirement already satisfied: scipy in /usr/local/lib/python3.8/dist-packages (from noisereduce) (1.7.3)\n",
            "Requirement already satisfied: decorator>=3.0.0 in /usr/local/lib/python3.8/dist-packages (from librosa->noisereduce) (4.4.2)\n",
            "Requirement already satisfied: resampy>=0.2.2 in /usr/local/lib/python3.8/dist-packages (from librosa->noisereduce) (0.4.2)\n",
            "Requirement already satisfied: joblib>=0.14 in /usr/local/lib/python3.8/dist-packages (from librosa->noisereduce) (1.2.0)\n",
            "Requirement already satisfied: numba>=0.43.0 in /usr/local/lib/python3.8/dist-packages (from librosa->noisereduce) (0.56.4)\n",
            "Requirement already satisfied: packaging>=20.0 in /usr/local/lib/python3.8/dist-packages (from librosa->noisereduce) (23.0)\n",
            "Requirement already satisfied: audioread>=2.0.0 in /usr/local/lib/python3.8/dist-packages (from librosa->noisereduce) (3.0.0)\n",
            "Requirement already satisfied: pooch>=1.0 in /usr/local/lib/python3.8/dist-packages (from librosa->noisereduce) (1.6.0)\n",
            "Requirement already satisfied: soundfile>=0.10.2 in /usr/local/lib/python3.8/dist-packages (from librosa->noisereduce) (0.12.1)\n",
            "Requirement already satisfied: scikit-learn!=0.19.0,>=0.14.0 in /usr/local/lib/python3.8/dist-packages (from librosa->noisereduce) (1.0.2)\n",
            "Requirement already satisfied: fonttools>=4.22.0 in /usr/local/lib/python3.8/dist-packages (from matplotlib->noisereduce) (4.38.0)\n",
            "Requirement already satisfied: pyparsing>=2.2.1 in /usr/local/lib/python3.8/dist-packages (from matplotlib->noisereduce) (3.0.9)\n",
            "Requirement already satisfied: pillow>=6.2.0 in /usr/local/lib/python3.8/dist-packages (from matplotlib->noisereduce) (7.1.2)\n",
            "Requirement already satisfied: cycler>=0.10 in /usr/local/lib/python3.8/dist-packages (from matplotlib->noisereduce) (0.11.0)\n",
            "Requirement already satisfied: python-dateutil>=2.7 in /usr/local/lib/python3.8/dist-packages (from matplotlib->noisereduce) (2.8.2)\n",
            "Requirement already satisfied: kiwisolver>=1.0.1 in /usr/local/lib/python3.8/dist-packages (from matplotlib->noisereduce) (1.4.4)\n",
            "Requirement already satisfied: importlib-metadata in /usr/local/lib/python3.8/dist-packages (from numba>=0.43.0->librosa->noisereduce) (6.0.0)\n",
            "Requirement already satisfied: llvmlite<0.40,>=0.39.0dev0 in /usr/local/lib/python3.8/dist-packages (from numba>=0.43.0->librosa->noisereduce) (0.39.1)\n",
            "Requirement already satisfied: setuptools in /usr/local/lib/python3.8/dist-packages (from numba>=0.43.0->librosa->noisereduce) (57.4.0)\n",
            "Requirement already satisfied: requests>=2.19.0 in /usr/local/lib/python3.8/dist-packages (from pooch>=1.0->librosa->noisereduce) (2.25.1)\n",
            "Requirement already satisfied: appdirs>=1.3.0 in /usr/local/lib/python3.8/dist-packages (from pooch>=1.0->librosa->noisereduce) (1.4.4)\n",
            "Requirement already satisfied: six>=1.5 in /usr/local/lib/python3.8/dist-packages (from python-dateutil>=2.7->matplotlib->noisereduce) (1.15.0)\n",
            "Requirement already satisfied: threadpoolctl>=2.0.0 in /usr/local/lib/python3.8/dist-packages (from scikit-learn!=0.19.0,>=0.14.0->librosa->noisereduce) (3.1.0)\n",
            "Requirement already satisfied: cffi>=1.0 in /usr/local/lib/python3.8/dist-packages (from soundfile>=0.10.2->librosa->noisereduce) (1.15.1)\n",
            "Requirement already satisfied: pycparser in /usr/local/lib/python3.8/dist-packages (from cffi>=1.0->soundfile>=0.10.2->librosa->noisereduce) (2.21)\n",
            "Requirement already satisfied: idna<3,>=2.5 in /usr/local/lib/python3.8/dist-packages (from requests>=2.19.0->pooch>=1.0->librosa->noisereduce) (2.10)\n",
            "Requirement already satisfied: chardet<5,>=3.0.2 in /usr/local/lib/python3.8/dist-packages (from requests>=2.19.0->pooch>=1.0->librosa->noisereduce) (4.0.0)\n",
            "Requirement already satisfied: urllib3<1.27,>=1.21.1 in /usr/local/lib/python3.8/dist-packages (from requests>=2.19.0->pooch>=1.0->librosa->noisereduce) (1.24.3)\n",
            "Requirement already satisfied: certifi>=2017.4.17 in /usr/local/lib/python3.8/dist-packages (from requests>=2.19.0->pooch>=1.0->librosa->noisereduce) (2022.12.7)\n",
            "Requirement already satisfied: zipp>=0.5 in /usr/local/lib/python3.8/dist-packages (from importlib-metadata->numba>=0.43.0->librosa->noisereduce) (3.14.0)\n"
          ]
        }
      ]
    },
    {
      "cell_type": "code",
      "source": [
        "path = \"/content/drive/MyDrive/LY Project/Dataframes/Features/Final/\"\n",
        "ravdess = pd.read_csv(path + \"DF_FINAL_RAVDESS.csv\")\n",
        "crema = pd.read_csv(path+ \"DF_FINAL_CREMA.csv\")\n",
        "savee = pd.read_csv(path + \"DF_FINAL_SAVEE.csv\")\n",
        "tess = pd.read_csv(path + \"FINAL_TESS_FEATURES.csv\", index_col = 0)\n",
        "jl = pd.read_csv(path + \"FINAL_DF_JLCORPUS.csv\", index_col = 0)\n",
        "emo = pd.read_csv(path + \"FINAL_EMO_FEATURES.csv\")"
      ],
      "metadata": {
        "id": "O9vmVk5Nyd2d"
      },
      "id": "O9vmVk5Nyd2d",
      "execution_count": null,
      "outputs": []
    },
    {
      "cell_type": "code",
      "source": [
        "ravdess.shape, crema.shape, savee.shape, tess.shape, jl.shape, emo.shape"
      ],
      "metadata": {
        "colab": {
          "base_uri": "https://localhost:8080/"
        },
        "id": "NJRB2g1P0Jfo",
        "outputId": "84dcb380-a6d5-4d1b-e57b-2a50630105bc"
      },
      "id": "NJRB2g1P0Jfo",
      "execution_count": null,
      "outputs": [
        {
          "output_type": "execute_result",
          "data": {
            "text/plain": [
              "((1248, 97), (7442, 97), (480, 97), (2800, 97), (2400, 97), (6893, 97))"
            ]
          },
          "metadata": {},
          "execution_count": 43
        }
      ]
    },
    {
      "cell_type": "code",
      "source": [
        "concat_df = pd.concat([ravdess, crema, savee, tess, jl, emo])"
      ],
      "metadata": {
        "id": "p-6eQ1EN7MVB"
      },
      "id": "p-6eQ1EN7MVB",
      "execution_count": null,
      "outputs": []
    },
    {
      "cell_type": "code",
      "source": [
        "print(concat_df.shape)\n",
        "\n",
        "concat_df.head()"
      ],
      "metadata": {
        "colab": {
          "base_uri": "https://localhost:8080/",
          "height": 578
        },
        "id": "PlWCP8Fr7RZB",
        "outputId": "2ba5d776-0901-465e-dcc6-726cc39a6751"
      },
      "id": "PlWCP8Fr7RZB",
      "execution_count": null,
      "outputs": [
        {
          "output_type": "stream",
          "name": "stdout",
          "text": [
            "(21263, 97)\n"
          ]
        },
        {
          "output_type": "execute_result",
          "data": {
            "text/plain": [
              "                                                path              filename  \\\n",
              "0  ravdess-emotional-speech-audio/Actor_01/03-01-...  03-01-01-01-01-01-01   \n",
              "1  ravdess-emotional-speech-audio/Actor_01/03-01-...  03-01-01-01-01-02-01   \n",
              "2  ravdess-emotional-speech-audio/Actor_01/03-01-...  03-01-01-01-02-01-01   \n",
              "3  ravdess-emotional-speech-audio/Actor_01/03-01-...  03-01-01-01-02-02-01   \n",
              "4  ravdess-emotional-speech-audio/Actor_01/03-01-...  03-01-03-01-01-01-01   \n",
              "\n",
              "   dataset  duration  sample_rate gender  age  emotion     f0_mean  \\\n",
              "0  RAVDESS     3.303        48000   male   26  neutral  112.335199   \n",
              "1  RAVDESS     3.337        48000   male   26  neutral  117.048401   \n",
              "2  RAVDESS     3.270        48000   male   26  neutral  113.449176   \n",
              "3  RAVDESS     3.170        48000   male   26  neutral  112.750895   \n",
              "4  RAVDESS     3.470        48000   male   26    happy  149.054000   \n",
              "\n",
              "    f0_median  ...  mfcc21_var  mfcc22_var  mfcc23_var  mfcc24_var  \\\n",
              "0  109.684328  ...   29.315643   36.579422   28.419561   20.604578   \n",
              "1  114.869835  ...   39.815510   44.388800   35.062126   16.261528   \n",
              "2  109.050773  ...   22.035300   37.271484   41.312490   37.438225   \n",
              "3  112.896440  ...   31.971504   36.978264   18.796390   35.866673   \n",
              "4  144.729338  ...   61.203896   63.172386   35.944280   25.528050   \n",
              "\n",
              "   mfcc25_var  mfcc26_var  mfcc27_var  mfcc28_var  mfcc29_var  mfcc30_var  \n",
              "0   34.236244   17.831990   47.886536   34.304970   32.610954   25.258045  \n",
              "1   26.367765   17.877956   39.467236   34.620537   38.908985   23.834513  \n",
              "2   32.081330   30.129055   40.721256   23.911890    8.379778   28.543652  \n",
              "3   42.234043   26.264517   42.082623   24.384457   41.745533   36.165436  \n",
              "4   28.051268   22.667345   10.932018   16.455738   23.799614   19.917862  \n",
              "\n",
              "[5 rows x 97 columns]"
            ],
            "text/html": [
              "\n",
              "  <div id=\"df-3f3d1df0-4177-4c7c-8eff-3e95df861e1e\">\n",
              "    <div class=\"colab-df-container\">\n",
              "      <div>\n",
              "<style scoped>\n",
              "    .dataframe tbody tr th:only-of-type {\n",
              "        vertical-align: middle;\n",
              "    }\n",
              "\n",
              "    .dataframe tbody tr th {\n",
              "        vertical-align: top;\n",
              "    }\n",
              "\n",
              "    .dataframe thead th {\n",
              "        text-align: right;\n",
              "    }\n",
              "</style>\n",
              "<table border=\"1\" class=\"dataframe\">\n",
              "  <thead>\n",
              "    <tr style=\"text-align: right;\">\n",
              "      <th></th>\n",
              "      <th>path</th>\n",
              "      <th>filename</th>\n",
              "      <th>dataset</th>\n",
              "      <th>duration</th>\n",
              "      <th>sample_rate</th>\n",
              "      <th>gender</th>\n",
              "      <th>age</th>\n",
              "      <th>emotion</th>\n",
              "      <th>f0_mean</th>\n",
              "      <th>f0_median</th>\n",
              "      <th>...</th>\n",
              "      <th>mfcc21_var</th>\n",
              "      <th>mfcc22_var</th>\n",
              "      <th>mfcc23_var</th>\n",
              "      <th>mfcc24_var</th>\n",
              "      <th>mfcc25_var</th>\n",
              "      <th>mfcc26_var</th>\n",
              "      <th>mfcc27_var</th>\n",
              "      <th>mfcc28_var</th>\n",
              "      <th>mfcc29_var</th>\n",
              "      <th>mfcc30_var</th>\n",
              "    </tr>\n",
              "  </thead>\n",
              "  <tbody>\n",
              "    <tr>\n",
              "      <th>0</th>\n",
              "      <td>ravdess-emotional-speech-audio/Actor_01/03-01-...</td>\n",
              "      <td>03-01-01-01-01-01-01</td>\n",
              "      <td>RAVDESS</td>\n",
              "      <td>3.303</td>\n",
              "      <td>48000</td>\n",
              "      <td>male</td>\n",
              "      <td>26</td>\n",
              "      <td>neutral</td>\n",
              "      <td>112.335199</td>\n",
              "      <td>109.684328</td>\n",
              "      <td>...</td>\n",
              "      <td>29.315643</td>\n",
              "      <td>36.579422</td>\n",
              "      <td>28.419561</td>\n",
              "      <td>20.604578</td>\n",
              "      <td>34.236244</td>\n",
              "      <td>17.831990</td>\n",
              "      <td>47.886536</td>\n",
              "      <td>34.304970</td>\n",
              "      <td>32.610954</td>\n",
              "      <td>25.258045</td>\n",
              "    </tr>\n",
              "    <tr>\n",
              "      <th>1</th>\n",
              "      <td>ravdess-emotional-speech-audio/Actor_01/03-01-...</td>\n",
              "      <td>03-01-01-01-01-02-01</td>\n",
              "      <td>RAVDESS</td>\n",
              "      <td>3.337</td>\n",
              "      <td>48000</td>\n",
              "      <td>male</td>\n",
              "      <td>26</td>\n",
              "      <td>neutral</td>\n",
              "      <td>117.048401</td>\n",
              "      <td>114.869835</td>\n",
              "      <td>...</td>\n",
              "      <td>39.815510</td>\n",
              "      <td>44.388800</td>\n",
              "      <td>35.062126</td>\n",
              "      <td>16.261528</td>\n",
              "      <td>26.367765</td>\n",
              "      <td>17.877956</td>\n",
              "      <td>39.467236</td>\n",
              "      <td>34.620537</td>\n",
              "      <td>38.908985</td>\n",
              "      <td>23.834513</td>\n",
              "    </tr>\n",
              "    <tr>\n",
              "      <th>2</th>\n",
              "      <td>ravdess-emotional-speech-audio/Actor_01/03-01-...</td>\n",
              "      <td>03-01-01-01-02-01-01</td>\n",
              "      <td>RAVDESS</td>\n",
              "      <td>3.270</td>\n",
              "      <td>48000</td>\n",
              "      <td>male</td>\n",
              "      <td>26</td>\n",
              "      <td>neutral</td>\n",
              "      <td>113.449176</td>\n",
              "      <td>109.050773</td>\n",
              "      <td>...</td>\n",
              "      <td>22.035300</td>\n",
              "      <td>37.271484</td>\n",
              "      <td>41.312490</td>\n",
              "      <td>37.438225</td>\n",
              "      <td>32.081330</td>\n",
              "      <td>30.129055</td>\n",
              "      <td>40.721256</td>\n",
              "      <td>23.911890</td>\n",
              "      <td>8.379778</td>\n",
              "      <td>28.543652</td>\n",
              "    </tr>\n",
              "    <tr>\n",
              "      <th>3</th>\n",
              "      <td>ravdess-emotional-speech-audio/Actor_01/03-01-...</td>\n",
              "      <td>03-01-01-01-02-02-01</td>\n",
              "      <td>RAVDESS</td>\n",
              "      <td>3.170</td>\n",
              "      <td>48000</td>\n",
              "      <td>male</td>\n",
              "      <td>26</td>\n",
              "      <td>neutral</td>\n",
              "      <td>112.750895</td>\n",
              "      <td>112.896440</td>\n",
              "      <td>...</td>\n",
              "      <td>31.971504</td>\n",
              "      <td>36.978264</td>\n",
              "      <td>18.796390</td>\n",
              "      <td>35.866673</td>\n",
              "      <td>42.234043</td>\n",
              "      <td>26.264517</td>\n",
              "      <td>42.082623</td>\n",
              "      <td>24.384457</td>\n",
              "      <td>41.745533</td>\n",
              "      <td>36.165436</td>\n",
              "    </tr>\n",
              "    <tr>\n",
              "      <th>4</th>\n",
              "      <td>ravdess-emotional-speech-audio/Actor_01/03-01-...</td>\n",
              "      <td>03-01-03-01-01-01-01</td>\n",
              "      <td>RAVDESS</td>\n",
              "      <td>3.470</td>\n",
              "      <td>48000</td>\n",
              "      <td>male</td>\n",
              "      <td>26</td>\n",
              "      <td>happy</td>\n",
              "      <td>149.054000</td>\n",
              "      <td>144.729338</td>\n",
              "      <td>...</td>\n",
              "      <td>61.203896</td>\n",
              "      <td>63.172386</td>\n",
              "      <td>35.944280</td>\n",
              "      <td>25.528050</td>\n",
              "      <td>28.051268</td>\n",
              "      <td>22.667345</td>\n",
              "      <td>10.932018</td>\n",
              "      <td>16.455738</td>\n",
              "      <td>23.799614</td>\n",
              "      <td>19.917862</td>\n",
              "    </tr>\n",
              "  </tbody>\n",
              "</table>\n",
              "<p>5 rows × 97 columns</p>\n",
              "</div>\n",
              "      <button class=\"colab-df-convert\" onclick=\"convertToInteractive('df-3f3d1df0-4177-4c7c-8eff-3e95df861e1e')\"\n",
              "              title=\"Convert this dataframe to an interactive table.\"\n",
              "              style=\"display:none;\">\n",
              "        \n",
              "  <svg xmlns=\"http://www.w3.org/2000/svg\" height=\"24px\"viewBox=\"0 0 24 24\"\n",
              "       width=\"24px\">\n",
              "    <path d=\"M0 0h24v24H0V0z\" fill=\"none\"/>\n",
              "    <path d=\"M18.56 5.44l.94 2.06.94-2.06 2.06-.94-2.06-.94-.94-2.06-.94 2.06-2.06.94zm-11 1L8.5 8.5l.94-2.06 2.06-.94-2.06-.94L8.5 2.5l-.94 2.06-2.06.94zm10 10l.94 2.06.94-2.06 2.06-.94-2.06-.94-.94-2.06-.94 2.06-2.06.94z\"/><path d=\"M17.41 7.96l-1.37-1.37c-.4-.4-.92-.59-1.43-.59-.52 0-1.04.2-1.43.59L10.3 9.45l-7.72 7.72c-.78.78-.78 2.05 0 2.83L4 21.41c.39.39.9.59 1.41.59.51 0 1.02-.2 1.41-.59l7.78-7.78 2.81-2.81c.8-.78.8-2.07 0-2.86zM5.41 20L4 18.59l7.72-7.72 1.47 1.35L5.41 20z\"/>\n",
              "  </svg>\n",
              "      </button>\n",
              "      \n",
              "  <style>\n",
              "    .colab-df-container {\n",
              "      display:flex;\n",
              "      flex-wrap:wrap;\n",
              "      gap: 12px;\n",
              "    }\n",
              "\n",
              "    .colab-df-convert {\n",
              "      background-color: #E8F0FE;\n",
              "      border: none;\n",
              "      border-radius: 50%;\n",
              "      cursor: pointer;\n",
              "      display: none;\n",
              "      fill: #1967D2;\n",
              "      height: 32px;\n",
              "      padding: 0 0 0 0;\n",
              "      width: 32px;\n",
              "    }\n",
              "\n",
              "    .colab-df-convert:hover {\n",
              "      background-color: #E2EBFA;\n",
              "      box-shadow: 0px 1px 2px rgba(60, 64, 67, 0.3), 0px 1px 3px 1px rgba(60, 64, 67, 0.15);\n",
              "      fill: #174EA6;\n",
              "    }\n",
              "\n",
              "    [theme=dark] .colab-df-convert {\n",
              "      background-color: #3B4455;\n",
              "      fill: #D2E3FC;\n",
              "    }\n",
              "\n",
              "    [theme=dark] .colab-df-convert:hover {\n",
              "      background-color: #434B5C;\n",
              "      box-shadow: 0px 1px 3px 1px rgba(0, 0, 0, 0.15);\n",
              "      filter: drop-shadow(0px 1px 2px rgba(0, 0, 0, 0.3));\n",
              "      fill: #FFFFFF;\n",
              "    }\n",
              "  </style>\n",
              "\n",
              "      <script>\n",
              "        const buttonEl =\n",
              "          document.querySelector('#df-3f3d1df0-4177-4c7c-8eff-3e95df861e1e button.colab-df-convert');\n",
              "        buttonEl.style.display =\n",
              "          google.colab.kernel.accessAllowed ? 'block' : 'none';\n",
              "\n",
              "        async function convertToInteractive(key) {\n",
              "          const element = document.querySelector('#df-3f3d1df0-4177-4c7c-8eff-3e95df861e1e');\n",
              "          const dataTable =\n",
              "            await google.colab.kernel.invokeFunction('convertToInteractive',\n",
              "                                                     [key], {});\n",
              "          if (!dataTable) return;\n",
              "\n",
              "          const docLinkHtml = 'Like what you see? Visit the ' +\n",
              "            '<a target=\"_blank\" href=https://colab.research.google.com/notebooks/data_table.ipynb>data table notebook</a>'\n",
              "            + ' to learn more about interactive tables.';\n",
              "          element.innerHTML = '';\n",
              "          dataTable['output_type'] = 'display_data';\n",
              "          await google.colab.output.renderOutput(dataTable, element);\n",
              "          const docLink = document.createElement('div');\n",
              "          docLink.innerHTML = docLinkHtml;\n",
              "          element.appendChild(docLink);\n",
              "        }\n",
              "      </script>\n",
              "    </div>\n",
              "  </div>\n",
              "  "
            ]
          },
          "metadata": {},
          "execution_count": 45
        }
      ]
    },
    {
      "cell_type": "code",
      "source": [
        "r = ravdess['emotion'].unique()\n",
        "c = crema['emotion'].unique()\n",
        "s = savee['emotion'].unique()\n",
        "t = tess['emotion'].unique()\n",
        "e = emo['emotion'].unique()\n",
        "j = jl['emotion'].unique()\n",
        "\n",
        "\n",
        "r.sort()\n",
        "c.sort()\n",
        "t.sort()\n",
        "j.sort()\n",
        "e.sort()\n",
        "s.sort()\n",
        "\n",
        "print(r)\n",
        "print(c)\n",
        "print(t)\n",
        "print(s)\n",
        "print(e)\n",
        "print(j)"
      ],
      "metadata": {
        "colab": {
          "base_uri": "https://localhost:8080/"
        },
        "id": "Wzw-SpGR6QY6",
        "outputId": "02efa9b4-e767-41cc-b61d-2460ea0fee5e"
      },
      "id": "Wzw-SpGR6QY6",
      "execution_count": null,
      "outputs": [
        {
          "output_type": "stream",
          "name": "stdout",
          "text": [
            "['angry' 'disgust' 'fear' 'happy' 'neutral' 'sad' 'surprise']\n",
            "['angry' 'disgust' 'fear' 'happy' 'neutral' 'sad']\n",
            "['angry' 'disgust' 'fear' 'happy' 'neutral' 'sad' 'surprise']\n",
            "['angry' 'disgust' 'fear' 'happy' 'neutral' 'sad' 'surprise']\n",
            "['amused' 'angry' 'disgust' 'neutral' 'sleepy']\n",
            "['angry' 'anxious' 'apologetic' 'assertive' 'concerned' 'encouraging'\n",
            " 'excited' 'happy' 'neutral' 'sad']\n"
          ]
        }
      ]
    },
    {
      "cell_type": "code",
      "source": [
        "print(concat_df['emotion'].unique())"
      ],
      "metadata": {
        "colab": {
          "base_uri": "https://localhost:8080/"
        },
        "id": "kBLFELkM7o3L",
        "outputId": "3688589a-c6eb-45ef-ec7f-7a5f9d56a76c"
      },
      "id": "kBLFELkM7o3L",
      "execution_count": null,
      "outputs": [
        {
          "output_type": "stream",
          "name": "stdout",
          "text": [
            "['neutral' 'happy' 'sad' 'angry' 'fear' 'disgust' 'surprise' 'anxious'\n",
            " 'apologetic' 'assertive' 'concerned' 'encouraging' 'excited' 'amused'\n",
            " 'sleepy']\n"
          ]
        }
      ]
    },
    {
      "cell_type": "code",
      "source": [
        "drop_emotions = concat_df[concat_df['emotion'].str.contains('amused|calm|sleepy|assertive|concerned|encouraging|anxious|apologetic|excited') == False].reset_index(drop=True)"
      ],
      "metadata": {
        "id": "lCXwK3CA7Z5B"
      },
      "id": "lCXwK3CA7Z5B",
      "execution_count": null,
      "outputs": []
    },
    {
      "cell_type": "code",
      "source": [
        "c_emo = drop_emotions[drop_emotions['dataset'] == 'CREMA-D']"
      ],
      "metadata": {
        "id": "uWDUNPNI-klS"
      },
      "id": "uWDUNPNI-klS",
      "execution_count": null,
      "outputs": []
    },
    {
      "cell_type": "code",
      "source": [
        "drop_emotions.isna().sum()"
      ],
      "metadata": {
        "colab": {
          "base_uri": "https://localhost:8080/"
        },
        "id": "xghrr0OV92Jq",
        "outputId": "bacdd8db-7431-4cd3-e0e4-61e13c119d25"
      },
      "id": "xghrr0OV92Jq",
      "execution_count": null,
      "outputs": [
        {
          "output_type": "execute_result",
          "data": {
            "text/plain": [
              "path           0\n",
              "filename       0\n",
              "dataset        0\n",
              "duration       0\n",
              "sample_rate    0\n",
              "              ..\n",
              "mfcc26_var     0\n",
              "mfcc27_var     0\n",
              "mfcc28_var     0\n",
              "mfcc29_var     0\n",
              "mfcc30_var     0\n",
              "Length: 97, dtype: int64"
            ]
          },
          "metadata": {},
          "execution_count": 59
        }
      ]
    },
    {
      "cell_type": "code",
      "source": [
        "drop_emotions.to_csv(\"/content/drive/MyDrive/LY Project/combo.csv\", index=False)"
      ],
      "metadata": {
        "id": "Gm1OuXDD9zZG"
      },
      "id": "Gm1OuXDD9zZG",
      "execution_count": null,
      "outputs": []
    },
    {
      "cell_type": "code",
      "source": [
        "import matplotlib.pyplot as plt\n",
        "\n",
        "fig, axes = plt.subplots(nrows=1, ncols=2, figsize=(20, 5))\n",
        "\n",
        "drop_emotions.groupby(['emotion', 'dataset']).size().unstack().plot(kind='bar', stacked=True, ax=axes[0])\n",
        "axes[0].set_title('Distribution of audio files by target emotion and dataset')\n",
        "axes[0].set_ylabel('number of samples')\n",
        "axes[0].legend(title='Dataset')\n",
        "\n",
        "drop_emotions.groupby(['emotion', 'gender']).size().unstack().plot(kind='bar', stacked=True, ax=axes[1])\n",
        "axes[1].set_title('Gender distribution for each emotion')\n",
        "axes[1].set_ylabel('number of samples')\n",
        "axes[1].legend(title='Gender')\n",
        "\n",
        "plt.savefig('/content/drive/MyDrive/LY Project/Images/my_plot.png')\n",
        "plt.show()"
      ],
      "metadata": {
        "colab": {
          "base_uri": "https://localhost:8080/",
          "height": 380
        },
        "id": "zp8S5cez8YUc",
        "outputId": "0ce81dc9-4ed4-499d-f14f-af8a45a06fd7"
      },
      "id": "zp8S5cez8YUc",
      "execution_count": null,
      "outputs": [
        {
          "output_type": "display_data",
          "data": {
            "text/plain": [
              "<Figure size 1440x360 with 2 Axes>"
            ],
            "image/png": "[encoded data removed]"
          },
          "metadata": {
            "needs_background": "light"
          }
        }
      ]
    },
    {
      "cell_type": "code",
      "source": [
        "import seaborn as sns\n",
        "\n",
        "# Check duration distribution by each source using violin plots\n",
        "plt.figure(figsize=(20,5))\n",
        "sns.violinplot(x=drop_emotions['dataset'],y=drop_emotions['duration'], linewidth=1)\n",
        "plt.xlabel('Dataset name')\n",
        "plt.ylabel('Files duration (sec)')\n",
        "plt.title('Samples duration for each dataset', size=12)\n",
        "plt.savefig('/content/drive/MyDrive/LY Project/Images/my_plot1.png')\n",
        "plt.show()"
      ],
      "metadata": {
        "colab": {
          "base_uri": "https://localhost:8080/",
          "height": 351
        },
        "id": "LHFDD3tcAOpn",
        "outputId": "bd048122-d513-4f86-945e-677208cc914d"
      },
      "id": "LHFDD3tcAOpn",
      "execution_count": null,
      "outputs": [
        {
          "output_type": "display_data",
          "data": {
            "text/plain": [
              "<Figure size 1440x360 with 1 Axes>"
            ],
            "image/png": "[encoded data removed]"
          },
          "metadata": {
            "needs_background": "light"
          }
        }
      ]
    },
    {
      "cell_type": "code",
      "source": [
        "fig, axes = plt.subplots(nrows=1, ncols=2, figsize=(20, 5))\n",
        "\n",
        "for c in [\"sample_rate\"]:\n",
        "    drop_emotions[c].value_counts().plot.bar(ax=axes[0])\n",
        "axes[0].set_title('Sample rate values')\n",
        "axes[0].set_xlabel('sample frequencies (Hz)')\n",
        "axes[0].set_ylabel('number of samples')\n",
        "    \n",
        "plt.title('Speakers age in the dataset')\n",
        "drop_emotions['age'].hist(bins=30, grid=False, ax=axes[1])\n",
        "axes[1].set_xlabel('age')\n",
        "axes[1].set_ylabel('number of samples')\n",
        "plt.savefig('/content/drive/MyDrive/LY Project/Images/my_plot2.png')\n",
        "plt.show()"
      ],
      "metadata": {
        "colab": {
          "base_uri": "https://localhost:8080/",
          "height": 371
        },
        "id": "xY-j9J0DAzqN",
        "outputId": "a4a8fdb2-5817-4773-f2fc-c5e8873f4ca3"
      },
      "id": "xY-j9J0DAzqN",
      "execution_count": null,
      "outputs": [
        {
          "output_type": "display_data",
          "data": {
            "text/plain": [
              "<Figure size 1440x360 with 2 Axes>"
            ],
            "image/png": "[encoded data removed]"
          },
          "metadata": {
            "needs_background": "light"
          }
        }
      ]
    }
  ],
  "metadata": {
    "kernelspec": {
      "display_name": "Python [conda env:adsml] *",
      "language": "python",
      "name": "conda-env-adsml-py"
    },
    "language_info": {
      "codemirror_mode": {
        "name": "ipython",
        "version": 3
      },
      "file_extension": ".py",
      "mimetype": "text/x-python",
      "name": "python",
      "nbconvert_exporter": "python",
      "pygments_lexer": "ipython3",
      "version": "3.9.7"
    },
    "colab": {
      "provenance": [],
      "include_colab_link": true
    }
  },
  "nbformat": 4,
  "nbformat_minor": 5
}