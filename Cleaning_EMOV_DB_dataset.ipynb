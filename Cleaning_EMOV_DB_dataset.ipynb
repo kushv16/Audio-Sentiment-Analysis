{
  "cells": [
    {
      "cell_type": "markdown",
      "metadata": {
        "id": "view-in-github",
        "colab_type": "text"
      },
      "source": [
        "<a href=\"https://colab.research.google.com/github/kushv16/Audio-Sentiment-Analysis/blob/master/Cleaning_EMOV_DB_dataset.ipynb\" target=\"_parent\"><img src=\"https://colab.research.google.com/assets/colab-badge.svg\" alt=\"Open In Colab\"/></a>"
      ]
    },
    {
      "cell_type": "code",
      "source": [
        "from google.colab import drive\n",
        "drive.mount('/content/drive', force_remount=True)"
      ],
      "metadata": {
        "colab": {
          "base_uri": "https://localhost:8080/"
        },
        "id": "xSlgkzWid4Xg",
        "outputId": "5d1b4fc4-5018-4c88-9021-3ef9dda74a5c"
      },
      "id": "xSlgkzWid4Xg",
      "execution_count": 1,
      "outputs": [
        {
          "output_type": "stream",
          "name": "stdout",
          "text": [
            "Mounted at /content/drive\n"
          ]
        }
      ]
    },
    {
      "cell_type": "code",
      "execution_count": 2,
      "id": "50209d41-d514-4d75-8a89-79cbb15065f7",
      "metadata": {
        "id": "50209d41-d514-4d75-8a89-79cbb15065f7",
        "colab": {
          "base_uri": "https://localhost:8080/"
        },
        "outputId": "e6afd694-c231-4c24-8de0-263eb33903a3"
      },
      "outputs": [
        {
          "output_type": "stream",
          "name": "stdout",
          "text": [
            "Looking in indexes: https://pypi.org/simple, https://us-python.pkg.dev/colab-wheels/public/simple/\n",
            "Collecting noisereduce\n",
            "  Downloading noisereduce-2.0.1-py3-none-any.whl (15 kB)\n",
            "Requirement already satisfied: numpy in /usr/local/lib/python3.8/dist-packages (from noisereduce) (1.22.4)\n",
            "Requirement already satisfied: librosa in /usr/local/lib/python3.8/dist-packages (from noisereduce) (0.8.1)\n",
            "Requirement already satisfied: matplotlib in /usr/local/lib/python3.8/dist-packages (from noisereduce) (3.5.3)\n",
            "Requirement already satisfied: tqdm in /usr/local/lib/python3.8/dist-packages (from noisereduce) (4.64.1)\n",
            "Requirement already satisfied: scipy in /usr/local/lib/python3.8/dist-packages (from noisereduce) (1.7.3)\n",
            "Requirement already satisfied: audioread>=2.0.0 in /usr/local/lib/python3.8/dist-packages (from librosa->noisereduce) (3.0.0)\n",
            "Requirement already satisfied: joblib>=0.14 in /usr/local/lib/python3.8/dist-packages (from librosa->noisereduce) (1.2.0)\n",
            "Requirement already satisfied: numba>=0.43.0 in /usr/local/lib/python3.8/dist-packages (from librosa->noisereduce) (0.56.4)\n",
            "Requirement already satisfied: soundfile>=0.10.2 in /usr/local/lib/python3.8/dist-packages (from librosa->noisereduce) (0.12.1)\n",
            "Requirement already satisfied: scikit-learn!=0.19.0,>=0.14.0 in /usr/local/lib/python3.8/dist-packages (from librosa->noisereduce) (1.0.2)\n",
            "Requirement already satisfied: packaging>=20.0 in /usr/local/lib/python3.8/dist-packages (from librosa->noisereduce) (23.0)\n",
            "Requirement already satisfied: pooch>=1.0 in /usr/local/lib/python3.8/dist-packages (from librosa->noisereduce) (1.6.0)\n",
            "Requirement already satisfied: resampy>=0.2.2 in /usr/local/lib/python3.8/dist-packages (from librosa->noisereduce) (0.4.2)\n",
            "Requirement already satisfied: decorator>=3.0.0 in /usr/local/lib/python3.8/dist-packages (from librosa->noisereduce) (4.4.2)\n",
            "Requirement already satisfied: cycler>=0.10 in /usr/local/lib/python3.8/dist-packages (from matplotlib->noisereduce) (0.11.0)\n",
            "Requirement already satisfied: python-dateutil>=2.7 in /usr/local/lib/python3.8/dist-packages (from matplotlib->noisereduce) (2.8.2)\n",
            "Requirement already satisfied: pyparsing>=2.2.1 in /usr/local/lib/python3.8/dist-packages (from matplotlib->noisereduce) (3.0.9)\n",
            "Requirement already satisfied: pillow>=6.2.0 in /usr/local/lib/python3.8/dist-packages (from matplotlib->noisereduce) (7.1.2)\n",
            "Requirement already satisfied: kiwisolver>=1.0.1 in /usr/local/lib/python3.8/dist-packages (from matplotlib->noisereduce) (1.4.4)\n",
            "Requirement already satisfied: fonttools>=4.22.0 in /usr/local/lib/python3.8/dist-packages (from matplotlib->noisereduce) (4.38.0)\n",
            "Requirement already satisfied: llvmlite<0.40,>=0.39.0dev0 in /usr/local/lib/python3.8/dist-packages (from numba>=0.43.0->librosa->noisereduce) (0.39.1)\n",
            "Requirement already satisfied: importlib-metadata in /usr/local/lib/python3.8/dist-packages (from numba>=0.43.0->librosa->noisereduce) (6.0.0)\n",
            "Requirement already satisfied: setuptools in /usr/local/lib/python3.8/dist-packages (from numba>=0.43.0->librosa->noisereduce) (57.4.0)\n",
            "Requirement already satisfied: appdirs>=1.3.0 in /usr/local/lib/python3.8/dist-packages (from pooch>=1.0->librosa->noisereduce) (1.4.4)\n",
            "Requirement already satisfied: requests>=2.19.0 in /usr/local/lib/python3.8/dist-packages (from pooch>=1.0->librosa->noisereduce) (2.25.1)\n",
            "Requirement already satisfied: six>=1.5 in /usr/local/lib/python3.8/dist-packages (from python-dateutil>=2.7->matplotlib->noisereduce) (1.15.0)\n",
            "Requirement already satisfied: threadpoolctl>=2.0.0 in /usr/local/lib/python3.8/dist-packages (from scikit-learn!=0.19.0,>=0.14.0->librosa->noisereduce) (3.1.0)\n",
            "Requirement already satisfied: cffi>=1.0 in /usr/local/lib/python3.8/dist-packages (from soundfile>=0.10.2->librosa->noisereduce) (1.15.1)\n",
            "Requirement already satisfied: pycparser in /usr/local/lib/python3.8/dist-packages (from cffi>=1.0->soundfile>=0.10.2->librosa->noisereduce) (2.21)\n",
            "Requirement already satisfied: certifi>=2017.4.17 in /usr/local/lib/python3.8/dist-packages (from requests>=2.19.0->pooch>=1.0->librosa->noisereduce) (2022.12.7)\n",
            "Requirement already satisfied: idna<3,>=2.5 in /usr/local/lib/python3.8/dist-packages (from requests>=2.19.0->pooch>=1.0->librosa->noisereduce) (2.10)\n",
            "Requirement already satisfied: urllib3<1.27,>=1.21.1 in /usr/local/lib/python3.8/dist-packages (from requests>=2.19.0->pooch>=1.0->librosa->noisereduce) (1.24.3)\n",
            "Requirement already satisfied: chardet<5,>=3.0.2 in /usr/local/lib/python3.8/dist-packages (from requests>=2.19.0->pooch>=1.0->librosa->noisereduce) (4.0.0)\n",
            "Requirement already satisfied: zipp>=0.5 in /usr/local/lib/python3.8/dist-packages (from importlib-metadata->numba>=0.43.0->librosa->noisereduce) (3.14.0)\n",
            "Installing collected packages: noisereduce\n",
            "Successfully installed noisereduce-2.0.1\n"
          ]
        }
      ],
      "source": [
        "!pip install noisereduce\n",
        "\n",
        "import pandas as pd\n",
        "import numpy as np\n",
        "import random\n",
        "from glob import glob\n",
        "import os\n",
        "import librosa\n",
        "import noisereduce as nr\n",
        "from scipy.io import wavfile\n",
        "import warnings\n",
        "warnings.filterwarnings(\"ignore\")"
      ]
    },
    {
      "cell_type": "markdown",
      "id": "4d71ba3a-3bfe-4b21-ab81-67ab6c25d677",
      "metadata": {
        "id": "4d71ba3a-3bfe-4b21-ab81-67ab6c25d677"
      },
      "source": [
        " "
      ]
    },
    {
      "cell_type": "markdown",
      "id": "7b30cad0-820d-4d99-9e99-9399f59855b7",
      "metadata": {
        "id": "7b30cad0-820d-4d99-9e99-9399f59855b7"
      },
      "source": [
        "First, let's import the dataset previously exported:"
      ]
    },
    {
      "cell_type": "code",
      "execution_count": 3,
      "id": "3654c02a-2786-44d3-ab08-276eb8b4e316",
      "metadata": {
        "id": "3654c02a-2786-44d3-ab08-276eb8b4e316",
        "outputId": "7cb71c45-2415-4ff4-e910-b681000b9848",
        "colab": {
          "base_uri": "https://localhost:8080/",
          "height": 97
        }
      },
      "outputs": [
        {
          "output_type": "stream",
          "name": "stdout",
          "text": [
            "The dataset has 6893 audio files\n"
          ]
        },
        {
          "output_type": "execute_result",
          "data": {
            "text/plain": [
              "                                                   path  \\\n",
              "4263  /kaggle/input/emovdb-sorted/josh/Sleepy/sleepi...   \n",
              "\n",
              "                     filename  dataset  duration  sample_rate gender  age  \\\n",
              "4263  sleepiness_197-224_0207  EmoV_DB     3.825        16000   male   30   \n",
              "\n",
              "     emotion  \n",
              "4263  sleepy  "
            ],
            "text/html": [
              "\n",
              "  <div id=\"df-5dcbf08c-40bf-45b4-a06a-cbd069d9554a\">\n",
              "    <div class=\"colab-df-container\">\n",
              "      <div>\n",
              "<style scoped>\n",
              "    .dataframe tbody tr th:only-of-type {\n",
              "        vertical-align: middle;\n",
              "    }\n",
              "\n",
              "    .dataframe tbody tr th {\n",
              "        vertical-align: top;\n",
              "    }\n",
              "\n",
              "    .dataframe thead th {\n",
              "        text-align: right;\n",
              "    }\n",
              "</style>\n",
              "<table border=\"1\" class=\"dataframe\">\n",
              "  <thead>\n",
              "    <tr style=\"text-align: right;\">\n",
              "      <th></th>\n",
              "      <th>path</th>\n",
              "      <th>filename</th>\n",
              "      <th>dataset</th>\n",
              "      <th>duration</th>\n",
              "      <th>sample_rate</th>\n",
              "      <th>gender</th>\n",
              "      <th>age</th>\n",
              "      <th>emotion</th>\n",
              "    </tr>\n",
              "  </thead>\n",
              "  <tbody>\n",
              "    <tr>\n",
              "      <th>4263</th>\n",
              "      <td>/kaggle/input/emovdb-sorted/josh/Sleepy/sleepi...</td>\n",
              "      <td>sleepiness_197-224_0207</td>\n",
              "      <td>EmoV_DB</td>\n",
              "      <td>3.825</td>\n",
              "      <td>16000</td>\n",
              "      <td>male</td>\n",
              "      <td>30</td>\n",
              "      <td>sleepy</td>\n",
              "    </tr>\n",
              "  </tbody>\n",
              "</table>\n",
              "</div>\n",
              "      <button class=\"colab-df-convert\" onclick=\"convertToInteractive('df-5dcbf08c-40bf-45b4-a06a-cbd069d9554a')\"\n",
              "              title=\"Convert this dataframe to an interactive table.\"\n",
              "              style=\"display:none;\">\n",
              "        \n",
              "  <svg xmlns=\"http://www.w3.org/2000/svg\" height=\"24px\"viewBox=\"0 0 24 24\"\n",
              "       width=\"24px\">\n",
              "    <path d=\"M0 0h24v24H0V0z\" fill=\"none\"/>\n",
              "    <path d=\"M18.56 5.44l.94 2.06.94-2.06 2.06-.94-2.06-.94-.94-2.06-.94 2.06-2.06.94zm-11 1L8.5 8.5l.94-2.06 2.06-.94-2.06-.94L8.5 2.5l-.94 2.06-2.06.94zm10 10l.94 2.06.94-2.06 2.06-.94-2.06-.94-.94-2.06-.94 2.06-2.06.94z\"/><path d=\"M17.41 7.96l-1.37-1.37c-.4-.4-.92-.59-1.43-.59-.52 0-1.04.2-1.43.59L10.3 9.45l-7.72 7.72c-.78.78-.78 2.05 0 2.83L4 21.41c.39.39.9.59 1.41.59.51 0 1.02-.2 1.41-.59l7.78-7.78 2.81-2.81c.8-.78.8-2.07 0-2.86zM5.41 20L4 18.59l7.72-7.72 1.47 1.35L5.41 20z\"/>\n",
              "  </svg>\n",
              "      </button>\n",
              "      \n",
              "  <style>\n",
              "    .colab-df-container {\n",
              "      display:flex;\n",
              "      flex-wrap:wrap;\n",
              "      gap: 12px;\n",
              "    }\n",
              "\n",
              "    .colab-df-convert {\n",
              "      background-color: #E8F0FE;\n",
              "      border: none;\n",
              "      border-radius: 50%;\n",
              "      cursor: pointer;\n",
              "      display: none;\n",
              "      fill: #1967D2;\n",
              "      height: 32px;\n",
              "      padding: 0 0 0 0;\n",
              "      width: 32px;\n",
              "    }\n",
              "\n",
              "    .colab-df-convert:hover {\n",
              "      background-color: #E2EBFA;\n",
              "      box-shadow: 0px 1px 2px rgba(60, 64, 67, 0.3), 0px 1px 3px 1px rgba(60, 64, 67, 0.15);\n",
              "      fill: #174EA6;\n",
              "    }\n",
              "\n",
              "    [theme=dark] .colab-df-convert {\n",
              "      background-color: #3B4455;\n",
              "      fill: #D2E3FC;\n",
              "    }\n",
              "\n",
              "    [theme=dark] .colab-df-convert:hover {\n",
              "      background-color: #434B5C;\n",
              "      box-shadow: 0px 1px 3px 1px rgba(0, 0, 0, 0.15);\n",
              "      filter: drop-shadow(0px 1px 2px rgba(0, 0, 0, 0.3));\n",
              "      fill: #FFFFFF;\n",
              "    }\n",
              "  </style>\n",
              "\n",
              "      <script>\n",
              "        const buttonEl =\n",
              "          document.querySelector('#df-5dcbf08c-40bf-45b4-a06a-cbd069d9554a button.colab-df-convert');\n",
              "        buttonEl.style.display =\n",
              "          google.colab.kernel.accessAllowed ? 'block' : 'none';\n",
              "\n",
              "        async function convertToInteractive(key) {\n",
              "          const element = document.querySelector('#df-5dcbf08c-40bf-45b4-a06a-cbd069d9554a');\n",
              "          const dataTable =\n",
              "            await google.colab.kernel.invokeFunction('convertToInteractive',\n",
              "                                                     [key], {});\n",
              "          if (!dataTable) return;\n",
              "\n",
              "          const docLinkHtml = 'Like what you see? Visit the ' +\n",
              "            '<a target=\"_blank\" href=https://colab.research.google.com/notebooks/data_table.ipynb>data table notebook</a>'\n",
              "            + ' to learn more about interactive tables.';\n",
              "          element.innerHTML = '';\n",
              "          dataTable['output_type'] = 'display_data';\n",
              "          await google.colab.output.renderOutput(dataTable, element);\n",
              "          const docLink = document.createElement('div');\n",
              "          docLink.innerHTML = docLinkHtml;\n",
              "          element.appendChild(docLink);\n",
              "        }\n",
              "      </script>\n",
              "    </div>\n",
              "  </div>\n",
              "  "
            ]
          },
          "metadata": {},
          "execution_count": 3
        }
      ],
      "source": [
        "# Import the dataset and verify that the upload is successful\n",
        "df = pd.read_csv('/content/drive/MyDrive/LY Project/Dataframes/Dataset/emov-db-df.csv', index_col=0)\n",
        "print('The dataset has {} audio files'.format(df.shape[0]))\n",
        "df.sample()"
      ]
    },
    {
      "cell_type": "code",
      "source": [
        "paths = list(df['path'])\n",
        "\n",
        "updated_paths = []\n",
        "updated_filenames = []\n",
        "\n",
        "for path in paths:\n",
        "  path_components = path.split('/')\n",
        "  updated_path_components = path_components[4:]\n",
        "  path_string = \"/\"\n",
        "  a = \"/content/drive/MyDrive/Emov-db/\" + path_string.join(updated_path_components)\n",
        "  updated_paths.append(a)\n",
        "  \n",
        "  components = a.split('/')\n",
        "  updated_filename = components[5] + \"_\" + components[-1]\n",
        "  updated_filenames.append(updated_filename)\n",
        "  \n",
        "  "
      ],
      "metadata": {
        "id": "rqEyPJQmegD5"
      },
      "id": "rqEyPJQmegD5",
      "execution_count": 8,
      "outputs": []
    },
    {
      "cell_type": "code",
      "source": [
        "print(updated_paths[:10])\n",
        "print(updated_filenames[:10])\n"
      ],
      "metadata": {
        "colab": {
          "base_uri": "https://localhost:8080/"
        },
        "id": "3EoS21dsSggL",
        "outputId": "d2c4da15-7c06-40fb-e6f1-125de770ec46"
      },
      "id": "3EoS21dsSggL",
      "execution_count": 9,
      "outputs": [
        {
          "output_type": "stream",
          "name": "stdout",
          "text": [
            "['/content/drive/MyDrive/Emov-db/bea/Amused/amused_1-15_0001.wav', '/content/drive/MyDrive/Emov-db/bea/Amused/amused_1-15_0002.wav', '/content/drive/MyDrive/Emov-db/bea/Amused/amused_1-15_0003.wav', '/content/drive/MyDrive/Emov-db/bea/Amused/amused_1-15_0004.wav', '/content/drive/MyDrive/Emov-db/bea/Amused/amused_1-15_0005.wav', '/content/drive/MyDrive/Emov-db/bea/Amused/amused_1-15_0006.wav', '/content/drive/MyDrive/Emov-db/bea/Amused/amused_1-15_0007.wav', '/content/drive/MyDrive/Emov-db/bea/Amused/amused_1-15_0009.wav', '/content/drive/MyDrive/Emov-db/bea/Amused/amused_1-15_0010.wav', '/content/drive/MyDrive/Emov-db/bea/Amused/amused_1-15_0011.wav']\n",
            "['bea_amused_1-15_0001.wav', 'bea_amused_1-15_0002.wav', 'bea_amused_1-15_0003.wav', 'bea_amused_1-15_0004.wav', 'bea_amused_1-15_0005.wav', 'bea_amused_1-15_0006.wav', 'bea_amused_1-15_0007.wav', 'bea_amused_1-15_0009.wav', 'bea_amused_1-15_0010.wav', 'bea_amused_1-15_0011.wav']\n"
          ]
        }
      ]
    },
    {
      "cell_type": "code",
      "source": [
        "df['path'] = updated_paths\n",
        "df['filename'] = updated_filenames\n",
        "df.head(5)"
      ],
      "metadata": {
        "colab": {
          "base_uri": "https://localhost:8080/",
          "height": 204
        },
        "id": "3Gwb9SUqhE_1",
        "outputId": "eaacb03b-3ea0-4dba-d95d-178e89f12c63"
      },
      "id": "3Gwb9SUqhE_1",
      "execution_count": 10,
      "outputs": [
        {
          "output_type": "execute_result",
          "data": {
            "text/plain": [
              "                                                path  \\\n",
              "0  /content/drive/MyDrive/Emov-db/bea/Amused/amus...   \n",
              "1  /content/drive/MyDrive/Emov-db/bea/Amused/amus...   \n",
              "2  /content/drive/MyDrive/Emov-db/bea/Amused/amus...   \n",
              "3  /content/drive/MyDrive/Emov-db/bea/Amused/amus...   \n",
              "4  /content/drive/MyDrive/Emov-db/bea/Amused/amus...   \n",
              "\n",
              "                   filename  dataset  duration  sample_rate  gender  age  \\\n",
              "0  bea_amused_1-15_0001.wav  EmoV_DB     4.385        44100  female   30   \n",
              "1  bea_amused_1-15_0002.wav  EmoV_DB     4.944        44100  female   30   \n",
              "2  bea_amused_1-15_0003.wav  EmoV_DB     6.399        44100  female   30   \n",
              "3  bea_amused_1-15_0004.wav  EmoV_DB     4.058        44100  female   30   \n",
              "4  bea_amused_1-15_0005.wav  EmoV_DB     3.358        44100  female   30   \n",
              "\n",
              "  emotion  \n",
              "0  amused  \n",
              "1  amused  \n",
              "2  amused  \n",
              "3  amused  \n",
              "4  amused  "
            ],
            "text/html": [
              "\n",
              "  <div id=\"df-7dcd2902-7285-41cb-b83d-9018aedaa66a\">\n",
              "    <div class=\"colab-df-container\">\n",
              "      <div>\n",
              "<style scoped>\n",
              "    .dataframe tbody tr th:only-of-type {\n",
              "        vertical-align: middle;\n",
              "    }\n",
              "\n",
              "    .dataframe tbody tr th {\n",
              "        vertical-align: top;\n",
              "    }\n",
              "\n",
              "    .dataframe thead th {\n",
              "        text-align: right;\n",
              "    }\n",
              "</style>\n",
              "<table border=\"1\" class=\"dataframe\">\n",
              "  <thead>\n",
              "    <tr style=\"text-align: right;\">\n",
              "      <th></th>\n",
              "      <th>path</th>\n",
              "      <th>filename</th>\n",
              "      <th>dataset</th>\n",
              "      <th>duration</th>\n",
              "      <th>sample_rate</th>\n",
              "      <th>gender</th>\n",
              "      <th>age</th>\n",
              "      <th>emotion</th>\n",
              "    </tr>\n",
              "  </thead>\n",
              "  <tbody>\n",
              "    <tr>\n",
              "      <th>0</th>\n",
              "      <td>/content/drive/MyDrive/Emov-db/bea/Amused/amus...</td>\n",
              "      <td>bea_amused_1-15_0001.wav</td>\n",
              "      <td>EmoV_DB</td>\n",
              "      <td>4.385</td>\n",
              "      <td>44100</td>\n",
              "      <td>female</td>\n",
              "      <td>30</td>\n",
              "      <td>amused</td>\n",
              "    </tr>\n",
              "    <tr>\n",
              "      <th>1</th>\n",
              "      <td>/content/drive/MyDrive/Emov-db/bea/Amused/amus...</td>\n",
              "      <td>bea_amused_1-15_0002.wav</td>\n",
              "      <td>EmoV_DB</td>\n",
              "      <td>4.944</td>\n",
              "      <td>44100</td>\n",
              "      <td>female</td>\n",
              "      <td>30</td>\n",
              "      <td>amused</td>\n",
              "    </tr>\n",
              "    <tr>\n",
              "      <th>2</th>\n",
              "      <td>/content/drive/MyDrive/Emov-db/bea/Amused/amus...</td>\n",
              "      <td>bea_amused_1-15_0003.wav</td>\n",
              "      <td>EmoV_DB</td>\n",
              "      <td>6.399</td>\n",
              "      <td>44100</td>\n",
              "      <td>female</td>\n",
              "      <td>30</td>\n",
              "      <td>amused</td>\n",
              "    </tr>\n",
              "    <tr>\n",
              "      <th>3</th>\n",
              "      <td>/content/drive/MyDrive/Emov-db/bea/Amused/amus...</td>\n",
              "      <td>bea_amused_1-15_0004.wav</td>\n",
              "      <td>EmoV_DB</td>\n",
              "      <td>4.058</td>\n",
              "      <td>44100</td>\n",
              "      <td>female</td>\n",
              "      <td>30</td>\n",
              "      <td>amused</td>\n",
              "    </tr>\n",
              "    <tr>\n",
              "      <th>4</th>\n",
              "      <td>/content/drive/MyDrive/Emov-db/bea/Amused/amus...</td>\n",
              "      <td>bea_amused_1-15_0005.wav</td>\n",
              "      <td>EmoV_DB</td>\n",
              "      <td>3.358</td>\n",
              "      <td>44100</td>\n",
              "      <td>female</td>\n",
              "      <td>30</td>\n",
              "      <td>amused</td>\n",
              "    </tr>\n",
              "  </tbody>\n",
              "</table>\n",
              "</div>\n",
              "      <button class=\"colab-df-convert\" onclick=\"convertToInteractive('df-7dcd2902-7285-41cb-b83d-9018aedaa66a')\"\n",
              "              title=\"Convert this dataframe to an interactive table.\"\n",
              "              style=\"display:none;\">\n",
              "        \n",
              "  <svg xmlns=\"http://www.w3.org/2000/svg\" height=\"24px\"viewBox=\"0 0 24 24\"\n",
              "       width=\"24px\">\n",
              "    <path d=\"M0 0h24v24H0V0z\" fill=\"none\"/>\n",
              "    <path d=\"M18.56 5.44l.94 2.06.94-2.06 2.06-.94-2.06-.94-.94-2.06-.94 2.06-2.06.94zm-11 1L8.5 8.5l.94-2.06 2.06-.94-2.06-.94L8.5 2.5l-.94 2.06-2.06.94zm10 10l.94 2.06.94-2.06 2.06-.94-2.06-.94-.94-2.06-.94 2.06-2.06.94z\"/><path d=\"M17.41 7.96l-1.37-1.37c-.4-.4-.92-.59-1.43-.59-.52 0-1.04.2-1.43.59L10.3 9.45l-7.72 7.72c-.78.78-.78 2.05 0 2.83L4 21.41c.39.39.9.59 1.41.59.51 0 1.02-.2 1.41-.59l7.78-7.78 2.81-2.81c.8-.78.8-2.07 0-2.86zM5.41 20L4 18.59l7.72-7.72 1.47 1.35L5.41 20z\"/>\n",
              "  </svg>\n",
              "      </button>\n",
              "      \n",
              "  <style>\n",
              "    .colab-df-container {\n",
              "      display:flex;\n",
              "      flex-wrap:wrap;\n",
              "      gap: 12px;\n",
              "    }\n",
              "\n",
              "    .colab-df-convert {\n",
              "      background-color: #E8F0FE;\n",
              "      border: none;\n",
              "      border-radius: 50%;\n",
              "      cursor: pointer;\n",
              "      display: none;\n",
              "      fill: #1967D2;\n",
              "      height: 32px;\n",
              "      padding: 0 0 0 0;\n",
              "      width: 32px;\n",
              "    }\n",
              "\n",
              "    .colab-df-convert:hover {\n",
              "      background-color: #E2EBFA;\n",
              "      box-shadow: 0px 1px 2px rgba(60, 64, 67, 0.3), 0px 1px 3px 1px rgba(60, 64, 67, 0.15);\n",
              "      fill: #174EA6;\n",
              "    }\n",
              "\n",
              "    [theme=dark] .colab-df-convert {\n",
              "      background-color: #3B4455;\n",
              "      fill: #D2E3FC;\n",
              "    }\n",
              "\n",
              "    [theme=dark] .colab-df-convert:hover {\n",
              "      background-color: #434B5C;\n",
              "      box-shadow: 0px 1px 3px 1px rgba(0, 0, 0, 0.15);\n",
              "      filter: drop-shadow(0px 1px 2px rgba(0, 0, 0, 0.3));\n",
              "      fill: #FFFFFF;\n",
              "    }\n",
              "  </style>\n",
              "\n",
              "      <script>\n",
              "        const buttonEl =\n",
              "          document.querySelector('#df-7dcd2902-7285-41cb-b83d-9018aedaa66a button.colab-df-convert');\n",
              "        buttonEl.style.display =\n",
              "          google.colab.kernel.accessAllowed ? 'block' : 'none';\n",
              "\n",
              "        async function convertToInteractive(key) {\n",
              "          const element = document.querySelector('#df-7dcd2902-7285-41cb-b83d-9018aedaa66a');\n",
              "          const dataTable =\n",
              "            await google.colab.kernel.invokeFunction('convertToInteractive',\n",
              "                                                     [key], {});\n",
              "          if (!dataTable) return;\n",
              "\n",
              "          const docLinkHtml = 'Like what you see? Visit the ' +\n",
              "            '<a target=\"_blank\" href=https://colab.research.google.com/notebooks/data_table.ipynb>data table notebook</a>'\n",
              "            + ' to learn more about interactive tables.';\n",
              "          element.innerHTML = '';\n",
              "          dataTable['output_type'] = 'display_data';\n",
              "          await google.colab.output.renderOutput(dataTable, element);\n",
              "          const docLink = document.createElement('div');\n",
              "          docLink.innerHTML = docLinkHtml;\n",
              "          element.appendChild(docLink);\n",
              "        }\n",
              "      </script>\n",
              "    </div>\n",
              "  </div>\n",
              "  "
            ]
          },
          "metadata": {},
          "execution_count": 10
        }
      ]
    },
    {
      "cell_type": "code",
      "source": [
        "!pip install tqdm\n",
        "\n",
        "from tqdm import tqdm"
      ],
      "metadata": {
        "colab": {
          "base_uri": "https://localhost:8080/"
        },
        "id": "oloQgzKMhPwW",
        "outputId": "fbd649d4-aa0d-46fc-e494-02f6b5ac8cf7"
      },
      "id": "oloQgzKMhPwW",
      "execution_count": 11,
      "outputs": [
        {
          "output_type": "stream",
          "name": "stdout",
          "text": [
            "Looking in indexes: https://pypi.org/simple, https://us-python.pkg.dev/colab-wheels/public/simple/\n",
            "Requirement already satisfied: tqdm in /usr/local/lib/python3.8/dist-packages (4.64.1)\n"
          ]
        }
      ]
    },
    {
      "cell_type": "code",
      "execution_count": 12,
      "id": "995888d9-e20a-4ea9-b0c6-5f8b70c46a0f",
      "metadata": {
        "tags": [],
        "id": "995888d9-e20a-4ea9-b0c6-5f8b70c46a0f"
      },
      "outputs": [],
      "source": [
        "# Folder where to store the cleaned audio files\n",
        "path = '/content/drive/MyDrive/LY Project/Cleaned Datasets/cleaned_samples_emodb/'\n",
        "\n",
        "# Function to clean the samples based on dataset\n",
        "def clean_files(dataset): # Select files linked to a dataset\n",
        "    \n",
        "    df_clean = df[df['dataset'] == dataset].reset_index(drop=True)\n",
        "    \n",
        "    for i in tqdm(range(0, df_clean.shape[0])):\n",
        "        \n",
        "        # load audio file at a sample rate of 16000 Hz:\n",
        "        y, sr = librosa.load(df_clean.path[i], sr=16000)\n",
        "    \n",
        "        # Trim signal at a level of 20 db\n",
        "        y_trim, _ = librosa.effects.trim(y, top_db=20)\n",
        "        \n",
        "        # Remove 25% noise from audio samples\n",
        "        y_noise_rem = nr.reduce_noise(y=y_trim, sr=sr, prop_decrease=0.1, stationary=True)\n",
        "        \n",
        "        # Rename new file adding '_cleaned.wav' and put it in the new folder\n",
        "        name = (os.path.join(path)+df_clean.filename[i]+'_cleaned.wav')\n",
        "        #  Save output in a wav file in a new folder\n",
        "        wavfile.write(name, sr, y_noise_rem)\n"
      ]
    },
    {
      "cell_type": "code",
      "execution_count": 13,
      "id": "92fcfb84-000f-436d-a742-08da6f1e961b",
      "metadata": {
        "id": "92fcfb84-000f-436d-a742-08da6f1e961b",
        "outputId": "df4ea256-f415-4c48-e05b-7803bb6f7e7d",
        "colab": {
          "base_uri": "https://localhost:8080/"
        }
      },
      "outputs": [
        {
          "output_type": "stream",
          "name": "stderr",
          "text": [
            "100%|██████████| 6893/6893 [38:22<00:00,  2.99it/s]"
          ]
        },
        {
          "output_type": "stream",
          "name": "stdout",
          "text": [
            "CPU times: user 13min 8s, sys: 1min 16s, total: 14min 24s\n",
            "Wall time: 38min 22s\n"
          ]
        },
        {
          "output_type": "stream",
          "name": "stderr",
          "text": [
            "\n"
          ]
        }
      ],
      "source": [
        "%%time\n",
        "clean_files('EmoV_DB')"
      ]
    }
  ],
  "metadata": {
    "kernelspec": {
      "display_name": "Python [conda env:adsml] *",
      "language": "python",
      "name": "conda-env-adsml-py"
    },
    "language_info": {
      "codemirror_mode": {
        "name": "ipython",
        "version": 3
      },
      "file_extension": ".py",
      "mimetype": "text/x-python",
      "name": "python",
      "nbconvert_exporter": "python",
      "pygments_lexer": "ipython3",
      "version": "3.9.7"
    },
    "colab": {
      "provenance": [],
      "include_colab_link": true
    }
  },
  "nbformat": 4,
  "nbformat_minor": 5
}